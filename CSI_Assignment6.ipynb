{
 "cells": [
  {
   "cell_type": "code",
   "execution_count": null,
   "id": "6925c456-17d3-4955-8b75-df7c115cda22",
   "metadata": {},
   "outputs": [],
   "source": []
  }
 ],
 "metadata": {
  "kernelspec": {
   "display_name": "",
   "name": ""
  },
  "language_info": {
   "name": ""
  }
 },
 "nbformat": 4,
 "nbformat_minor": 5
}
