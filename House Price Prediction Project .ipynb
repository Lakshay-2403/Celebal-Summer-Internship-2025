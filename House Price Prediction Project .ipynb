{
 "cells": [
  {
   "cell_type": "code",
   "execution_count": 1,
   "id": "79f10e41-66b4-4c78-b049-31e5a77b47b6",
   "metadata": {},
   "outputs": [],
   "source": [
    "import pandas as pd \n",
    "import numpy as np\n",
    "from sklearn.ensemble import RandomForestRegressor\n",
    "from sklearn.preprocessing import LabelEncoder\n",
    "from sklearn.model_selection import KFold,cross_val_score\n",
    "import warnings \n",
    "warnings.filterwarnings('ignore')"
   ]
  },
  {
   "cell_type": "code",
   "execution_count": 3,
   "id": "9b5fe3fe-c9a7-40e5-a6c6-7ee3525a610f",
   "metadata": {},
   "outputs": [],
   "source": [
    "train = pd.read_csv('train.csv')\n",
    "test = pd.read_csv('test.csv')\n",
    "submission = pd.read_csv('sample_submission.csv')"
   ]
  },
  {
   "cell_type": "code",
   "execution_count": 5,
   "id": "0e3549a4-275e-41c6-88cf-6316b20ee1dd",
   "metadata": {},
   "outputs": [],
   "source": [
    "y = np.log1p(train['SalePrice'])\n",
    "train.drop(['SalePrice'],axis = 1, inplace = True)"
   ]
  },
  {
   "cell_type": "code",
   "execution_count": 7,
   "id": "607fdaa5-7272-4c48-b64b-5981e8b8e9c6",
   "metadata": {},
   "outputs": [],
   "source": [
    "combined = pd.concat([train,test],axis = 0)"
   ]
  },
  {
   "cell_type": "code",
   "execution_count": 9,
   "id": "237bff41-446c-4ca3-8be0-72b5569c8a0e",
   "metadata": {},
   "outputs": [],
   "source": [
    "for col in combined.columns :\n",
    "    if combined[col].dtype == 'object':\n",
    "        combined[col] = combined[col].fillna('None')\n",
    "    else :\n",
    "        combined[col] = combined[col].fillna(combined[col].median())"
   ]
  },
  {
   "cell_type": "code",
   "execution_count": 11,
   "id": "6f00a2f7-bf44-4557-ba8c-ed643269eadc",
   "metadata": {},
   "outputs": [],
   "source": [
    "for col in combined.select_dtypes(include='object').columns:\n",
    "    le = LabelEncoder()\n",
    "    combined[col] = le.fit_transform(combined[col])\n"
   ]
  },
  {
   "cell_type": "code",
   "execution_count": 13,
   "id": "0a6596ea-606c-47ee-85f6-30f57be7f440",
   "metadata": {},
   "outputs": [],
   "source": [
    "X = combined.iloc[:len(y), :]\n",
    "X_test = combined.iloc[len(y):, :]\n"
   ]
  },
  {
   "cell_type": "code",
   "execution_count": 15,
   "id": "6300e0ef-d94a-4f4a-bf25-cbfe296eb486",
   "metadata": {},
   "outputs": [
    {
     "name": "stdout",
     "output_type": "stream",
     "text": [
      "CV RMSE (log RMSE): 0.1450\n"
     ]
    }
   ],
   "source": [
    "model = RandomForestRegressor(n_estimators=100, random_state=42)\n",
    "cv = KFold(n_splits=5, shuffle=True, random_state=42)\n",
    "rmse = np.sqrt(-cross_val_score(model, X, y, scoring='neg_mean_squared_error', cv=cv)).mean()\n",
    "print(f\"CV RMSE (log RMSE): {rmse:.4f}\")\n"
   ]
  },
  {
   "cell_type": "code",
   "execution_count": 17,
   "id": "9f3f34a0-f57f-43e6-8d69-762c2b0c63bb",
   "metadata": {},
   "outputs": [],
   "source": [
    "model.fit(X, y)\n",
    "preds = model.predict(X_test)\n",
    "final_preds = np.expm1(preds)"
   ]
  },
  {
   "cell_type": "code",
   "execution_count": 23,
   "id": "f65f6774-b451-4c42-8236-f7fefd71604b",
   "metadata": {},
   "outputs": [
    {
     "name": "stdout",
     "output_type": "stream",
     "text": [
      "Submission file created: house_price_submission.csv\n"
     ]
    }
   ],
   "source": [
    "submission['SalePrice'] = final_preds\n",
    "submission.to_csv('house_price_submission.csv', index=False)\n",
    "print(\"Submission file created: house_price_submission.csv\")"
   ]
  },
  {
   "cell_type": "code",
   "execution_count": null,
   "id": "5b4db05e-4b62-4ac3-a31b-b3653bce361a",
   "metadata": {},
   "outputs": [],
   "source": []
  }
 ],
 "metadata": {
  "kernelspec": {
   "display_name": "Python 3 (ipykernel)",
   "language": "python",
   "name": "python3"
  },
  "language_info": {
   "codemirror_mode": {
    "name": "ipython",
    "version": 3
   },
   "file_extension": ".py",
   "mimetype": "text/x-python",
   "name": "python",
   "nbconvert_exporter": "python",
   "pygments_lexer": "ipython3",
   "version": "3.12.4"
  }
 },
 "nbformat": 4,
 "nbformat_minor": 5
}
